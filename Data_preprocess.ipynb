{
 "cells": [
  {
   "cell_type": "code",
   "execution_count": 1,
   "metadata": {},
   "outputs": [
    {
     "name": "stdout",
     "output_type": "stream",
     "text": [
      "Loading the data...\n",
      "1386.0 174.0\n"
     ]
    }
   ],
   "source": [
    "# Importing the libraries\n",
    "import pandas as pd \n",
    "import numpy as numpy\n",
    "import matplotlib.pyplot as plt \n",
    "\n",
    "\n",
    "# Loading the csv file\n",
    "print('Loading the data...')\n",
    "data = pd.read_csv('train.csv')\n",
    "\n",
    "\n",
    "# Renaming the column\n",
    "data = data.rename(columns={'electricity_consumption':'demand'})\n",
    "\n",
    "\n",
    "# Dropping the ID Column\n",
    "data.drop(['ID'], axis=1, inplace=True)\n",
    "\n",
    "\n",
    "# Some attributes of data\n",
    "n_examp, n_feat = data.shape\n",
    "\n",
    "\n",
    "# Change the datetime column(a str) to datetime type\n",
    "data['datetime'] = pd.to_datetime(data['datetime'], format='%Y-%m-%d %H:%M:%S')\n",
    "\n",
    "\n",
    "# Get the range of time\n",
    "min_time = min(data['datetime'])\n",
    "max_time = max(data['datetime'])\n",
    "\n",
    "\n",
    "# Make new columns of day, month, year, hour\n",
    "data['year'] = data.datetime.dt.year\n",
    "data['month'] = data.datetime.dt.month\n",
    "data['day'] = data.datetime.dt.day\n",
    "data['hour'] =  data.datetime.dt.hour\n",
    "\n",
    "\n",
    "# Rearranging the columns\n",
    "data = data[['datetime','year', 'month', 'day', 'hour',\n",
    "\t\t\t'temperature', 'var1', 'pressure', 'windspeed', 'var2','demand']]\n",
    "\n",
    "# Dropping the datetime column since its redundant\n",
    "data.drop(['datetime'], axis=1, inplace=True)\n",
    "\n",
    "\n",
    "\n",
    "# Encoding var2 column with A:1 and B/C:0\n",
    "data.var2.replace({'A':1, 'B': 0, 'C': 0}, inplace=True)\n",
    "\n",
    "\n",
    "#Normalizing the columns\n",
    "max_dem = max(data['demand'])\n",
    "min_dem = min(data['demand'])\n",
    "for col in data.columns:\n",
    "    data[col] = (data[col] - min(data[col]))/(max(data[col]) - min(data[col]))\n",
    "\n",
    "print(max_dem, min_dem)\n"
   ]
  },
  {
   "cell_type": "code",
   "execution_count": 2,
   "metadata": {},
   "outputs": [],
   "source": [
    "# data.to_csv('data.csv', index=False)"
   ]
  },
  {
   "cell_type": "code",
   "execution_count": 3,
   "metadata": {},
   "outputs": [],
   "source": [
    "import tensorflow as tf\n",
    "from IPython.display import clear_output\n",
    "from sklearn.model_selection import train_test_split\n",
    "tf.__version__\n",
    "tf.reset_default_graph()"
   ]
  },
  {
   "cell_type": "code",
   "execution_count": 4,
   "metadata": {},
   "outputs": [],
   "source": [
    "def Mexican(z):\n",
    "    return tf.multiply(tf.subtract(tf.constant(1.0), tf.pow(z,2)), tf.exp(tf.multiply(tf.constant(-0.5), tf.pow(z,2))))"
   ]
  },
  {
   "cell_type": "code",
   "execution_count": 5,
   "metadata": {},
   "outputs": [],
   "source": [
    "demand = data['demand']\n",
    "data.drop('demand', axis=1, inplace=True)"
   ]
  },
  {
   "cell_type": "code",
   "execution_count": 6,
   "metadata": {},
   "outputs": [
    {
     "data": {
      "text/html": [
       "<div>\n",
       "<style scoped>\n",
       "    .dataframe tbody tr th:only-of-type {\n",
       "        vertical-align: middle;\n",
       "    }\n",
       "\n",
       "    .dataframe tbody tr th {\n",
       "        vertical-align: top;\n",
       "    }\n",
       "\n",
       "    .dataframe thead th {\n",
       "        text-align: right;\n",
       "    }\n",
       "</style>\n",
       "<table border=\"1\" class=\"dataframe\">\n",
       "  <thead>\n",
       "    <tr style=\"text-align: right;\">\n",
       "      <th></th>\n",
       "      <th>year</th>\n",
       "      <th>month</th>\n",
       "      <th>day</th>\n",
       "      <th>hour</th>\n",
       "      <th>temperature</th>\n",
       "      <th>var1</th>\n",
       "      <th>pressure</th>\n",
       "      <th>windspeed</th>\n",
       "      <th>var2</th>\n",
       "    </tr>\n",
       "  </thead>\n",
       "  <tbody>\n",
       "    <tr>\n",
       "      <th>0</th>\n",
       "      <td>0.0</td>\n",
       "      <td>0.545455</td>\n",
       "      <td>0.0</td>\n",
       "      <td>0.000000</td>\n",
       "      <td>0.140049</td>\n",
       "      <td>0.306796</td>\n",
       "      <td>0.704225</td>\n",
       "      <td>0.974911</td>\n",
       "      <td>1.0</td>\n",
       "    </tr>\n",
       "    <tr>\n",
       "      <th>1</th>\n",
       "      <td>0.0</td>\n",
       "      <td>0.545455</td>\n",
       "      <td>0.0</td>\n",
       "      <td>0.043478</td>\n",
       "      <td>0.122850</td>\n",
       "      <td>0.264078</td>\n",
       "      <td>0.605634</td>\n",
       "      <td>0.980257</td>\n",
       "      <td>1.0</td>\n",
       "    </tr>\n",
       "    <tr>\n",
       "      <th>2</th>\n",
       "      <td>0.0</td>\n",
       "      <td>0.545455</td>\n",
       "      <td>0.0</td>\n",
       "      <td>0.086957</td>\n",
       "      <td>0.103194</td>\n",
       "      <td>0.250485</td>\n",
       "      <td>0.661972</td>\n",
       "      <td>0.986055</td>\n",
       "      <td>1.0</td>\n",
       "    </tr>\n",
       "    <tr>\n",
       "      <th>3</th>\n",
       "      <td>0.0</td>\n",
       "      <td>0.545455</td>\n",
       "      <td>0.0</td>\n",
       "      <td>0.130435</td>\n",
       "      <td>0.140049</td>\n",
       "      <td>0.306796</td>\n",
       "      <td>0.591549</td>\n",
       "      <td>0.993134</td>\n",
       "      <td>1.0</td>\n",
       "    </tr>\n",
       "    <tr>\n",
       "      <th>4</th>\n",
       "      <td>0.0</td>\n",
       "      <td>0.545455</td>\n",
       "      <td>0.0</td>\n",
       "      <td>0.173913</td>\n",
       "      <td>0.140049</td>\n",
       "      <td>0.264078</td>\n",
       "      <td>0.732394</td>\n",
       "      <td>1.000000</td>\n",
       "      <td>1.0</td>\n",
       "    </tr>\n",
       "  </tbody>\n",
       "</table>\n",
       "</div>"
      ],
      "text/plain": [
       "   year     month  day      hour  temperature      var1  pressure  windspeed  \\\n",
       "0   0.0  0.545455  0.0  0.000000     0.140049  0.306796  0.704225   0.974911   \n",
       "1   0.0  0.545455  0.0  0.043478     0.122850  0.264078  0.605634   0.980257   \n",
       "2   0.0  0.545455  0.0  0.086957     0.103194  0.250485  0.661972   0.986055   \n",
       "3   0.0  0.545455  0.0  0.130435     0.140049  0.306796  0.591549   0.993134   \n",
       "4   0.0  0.545455  0.0  0.173913     0.140049  0.264078  0.732394   1.000000   \n",
       "\n",
       "   var2  \n",
       "0   1.0  \n",
       "1   1.0  \n",
       "2   1.0  \n",
       "3   1.0  \n",
       "4   1.0  "
      ]
     },
     "execution_count": 6,
     "metadata": {},
     "output_type": "execute_result"
    }
   ],
   "source": [
    "data.head()"
   ]
  },
  {
   "cell_type": "code",
   "execution_count": 7,
   "metadata": {},
   "outputs": [],
   "source": [
    "X_train, X_test, y_train, y_test = train_test_split(data.values, demand.values, test_size = 0.3)"
   ]
  },
  {
   "cell_type": "code",
   "execution_count": 8,
   "metadata": {},
   "outputs": [],
   "source": [
    "n_features = X_train.shape[1]\n",
    "n_hidden = 10                \n",
    "n_class = 1\n",
    "lr = 0.01        #Learning rate"
   ]
  },
  {
   "cell_type": "code",
   "execution_count": 9,
   "metadata": {},
   "outputs": [],
   "source": [
    "x = tf.placeholder(tf.float32, [None, n_features], name = 'X_label')\n",
    "y_true = tf.placeholder(tf.float32, [None, n_class], name = 'y_label')"
   ]
  },
  {
   "cell_type": "code",
   "execution_count": 10,
   "metadata": {},
   "outputs": [],
   "source": [
    "def new_weights(shape, name):\n",
    "    return tf.Variable(tf.truncated_normal(shape, stddev=1),name = name)"
   ]
  },
  {
   "cell_type": "code",
   "execution_count": 11,
   "metadata": {},
   "outputs": [],
   "source": [
    "#Defining the various weights in Tesorflow graph\n",
    "\n",
    "W_trans = new_weights([n_hidden, n_features], 'w_trans')\n",
    "W_dilat = new_weights([n_hidden, n_features],'W_dilat')\n",
    "W_lin = new_weights([n_class, n_hidden], 'w_lin')\n",
    "W_direct = new_weights([n_class, n_features], 'w_dir')\n",
    "\n",
    "biases = tf.Variable(tf.constant(0.05, shape=[1]))"
   ]
  },
  {
   "cell_type": "code",
   "execution_count": 12,
   "metadata": {},
   "outputs": [],
   "source": [
    "#Activation of hidden layer\n",
    "act_hidd = tf.reshape(tf.reduce_prod(Mexican(tf.divide(tf.subtract(x, W_trans), W_dilat)), axis = 1), shape=[n_hidden,1])\n",
    "\n",
    "#Final output\n",
    "logits = tf.transpose(tf.matmul(W_lin, act_hidd)) + biases + tf.matmul(x,tf.transpose(W_direct))"
   ]
  },
  {
   "cell_type": "code",
   "execution_count": 13,
   "metadata": {},
   "outputs": [],
   "source": [
    "cost = tf.reduce_mean(tf.square(logits-y_true))"
   ]
  },
  {
   "cell_type": "code",
   "execution_count": 14,
   "metadata": {},
   "outputs": [],
   "source": [
    "optimizer = tf.train.GradientDescentOptimizer(learning_rate=lr).minimize(cost)"
   ]
  },
  {
   "cell_type": "code",
   "execution_count": 15,
   "metadata": {},
   "outputs": [],
   "source": [
    "sess = tf.Session()\n",
    "sess.run(tf.global_variables_initializer())"
   ]
  },
  {
   "cell_type": "code",
   "execution_count": 16,
   "metadata": {},
   "outputs": [],
   "source": [
    "costy = []\n",
    "def optimize(num_iterations):\n",
    "    \n",
    "    for j in range(num_iterations):\n",
    "        print('Epoch: ', j)\n",
    "        tot_cost = 0\n",
    "        for x1,y1 in zip(X_train, y_train):\n",
    "            feed_dict_train = {x:x1.reshape(1,9), y_true:y1.reshape(1,1)}\n",
    "            _, my_cost = sess.run([optimizer, cost] ,feed_dict=feed_dict_train)\n",
    "            tot_cost += my_cost/120\n",
    "        print(tot_cost)\n",
    "\n",
    "        costy.append(tot_cost)"
   ]
  },
  {
   "cell_type": "code",
   "execution_count": 17,
   "metadata": {},
   "outputs": [
    {
     "data": {
      "text/plain": [
       "<function matplotlib.pyplot.show(*args, **kw)>"
      ]
     },
     "execution_count": 17,
     "metadata": {},
     "output_type": "execute_result"
    },
    {
     "data": {
      "image/png": "[encoded data removed]",
      "text/plain": [
       "<Figure size 432x288 with 1 Axes>"
      ]
     },
     "metadata": {
      "needs_background": "light"
     },
     "output_type": "display_data"
    }
   ],
   "source": [
    "predict = []\n",
    "for x1,y1 in zip(X_test, y_test):\n",
    "    feed_dict_train = {x:x1.reshape(1,9), y_true:y1.reshape(1,1)}\n",
    "    \n",
    "    pred = sess.run(logits ,feed_dict=feed_dict_train)\n",
    "    predict.append(pred[0][0])\n",
    "plt.plot(y_test[0:100])\n",
    "plt.plot(predict[0:100])\n",
    "plt.show"
   ]
  },
  {
   "cell_type": "code",
   "execution_count": 18,
   "metadata": {},
   "outputs": [
    {
     "name": "stdout",
     "output_type": "stream",
     "text": [
      "Epoch:  0\n",
      "3.459028743188597\n",
      "Epoch:  1\n",
      "0.9819634609249438\n",
      "Epoch:  2\n",
      "0.9786446098951536\n",
      "Epoch:  3\n",
      "0.9784014809912092\n",
      "Epoch:  4\n",
      "0.9782547558524547\n",
      "Epoch:  5\n",
      "0.9781473825764445\n",
      "Epoch:  6\n",
      "0.9780653525536203\n",
      "Epoch:  7\n",
      "0.9780003386620759\n",
      "Epoch:  8\n",
      "0.9779467901274994\n",
      "Epoch:  9\n",
      "0.9779008526123055\n"
     ]
    },
    {
     "data": {
      "text/plain": [
       "[<matplotlib.lines.Line2D at 0x7fa7083cb160>]"
      ]
     },
     "execution_count": 18,
     "metadata": {},
     "output_type": "execute_result"
    },
    {
     "data": {
      "image/png": "[encoded data removed]",
      "text/plain": [
       "<Figure size 432x288 with 1 Axes>"
      ]
     },
     "metadata": {
      "needs_background": "light"
     },
     "output_type": "display_data"
    }
   ],
   "source": [
    "optimize(num_iterations=10)\n",
    "plt.plot(costy)"
   ]
  },
  {
   "cell_type": "code",
   "execution_count": 19,
   "metadata": {},
   "outputs": [],
   "source": [
    "predict = []\n",
    "for x1,y1 in zip(X_test, y_test):\n",
    "    feed_dict_train = {x:x1.reshape(1,9), y_true:y1.reshape(1,1)}\n",
    "    \n",
    "    pred = sess.run(logits ,feed_dict=feed_dict_train)\n",
    "    predict.append(pred[0][0])"
   ]
  },
  {
   "cell_type": "code",
   "execution_count": 20,
   "metadata": {},
   "outputs": [
    {
     "data": {
      "text/plain": [
       "<function matplotlib.pyplot.show(*args, **kw)>"
      ]
     },
     "execution_count": 20,
     "metadata": {},
     "output_type": "execute_result"
    },
    {
     "data": {
      "image/png": "[encoded data removed]",
      "text/plain": [
       "<Figure size 432x288 with 1 Axes>"
      ]
     },
     "metadata": {
      "needs_background": "light"
     },
     "output_type": "display_data"
    }
   ],
   "source": [
    "plt.plot(y_test[0:100])\n",
    "plt.plot(predict[0:100])\n",
    "plt.show"
   ]
  },
  {
   "cell_type": "code",
   "execution_count": null,
   "metadata": {},
   "outputs": [],
   "source": []
  }
 ],
 "metadata": {
  "kernelspec": {
   "display_name": "Python 3",
   "language": "python",
   "name": "python3"
  },
  "language_info": {
   "codemirror_mode": {
    "name": "ipython",
    "version": 3
   },
   "file_extension": ".py",
   "mimetype": "text/x-python",
   "name": "python",
   "nbconvert_exporter": "python",
   "pygments_lexer": "ipython3",
   "version": "3.6.6"
  }
 },
 "nbformat": 4,
 "nbformat_minor": 2
}
